{
 "cells": [
  {
   "cell_type": "markdown",
   "id": "db8e056a",
   "metadata": {},
   "source": [
    "# Test\n"
   ]
  },
  {
   "cell_type": "code",
   "execution_count": 2,
   "id": "3413cce0",
   "metadata": {},
   "outputs": [],
   "source": [
    "import sqlite3 \n",
    "import os\n",
    "import pandas as pd"
   ]
  },
  {
   "cell_type": "markdown",
   "id": "24d1cc4d",
   "metadata": {},
   "source": [
    "### \"Pre processing\" the data \n",
    "it would be great to have the file path with it in each data frame\n",
    "(this is nearly identical to what Anna is doing)"
   ]
  },
  {
   "cell_type": "code",
   "execution_count": 3,
   "id": "098aa8ce",
   "metadata": {},
   "outputs": [
    {
     "name": "stdout",
     "output_type": "stream",
     "text": [
      "Requirement already satisfied: openpyxl in c:\\users\\farah\\appdata\\local\\packages\\pythonsoftwarefoundation.python.3.11_qbz5n2kfra8p0\\localcache\\local-packages\\python311\\site-packages (3.1.5)\n",
      "Requirement already satisfied: et-xmlfile in c:\\users\\farah\\appdata\\local\\packages\\pythonsoftwarefoundation.python.3.11_qbz5n2kfra8p0\\localcache\\local-packages\\python311\\site-packages (from openpyxl) (2.0.0)\n",
      "Note: you may need to restart the kernel to use updated packages.\n"
     ]
    },
    {
     "name": "stderr",
     "output_type": "stream",
     "text": [
      "\n",
      "[notice] A new release of pip is available: 24.0 -> 25.1.1\n",
      "[notice] To update, run: C:\\Users\\farah\\AppData\\Local\\Microsoft\\WindowsApps\\PythonSoftwareFoundation.Python.3.11_qbz5n2kfra8p0\\python.exe -m pip install --upgrade pip\n"
     ]
    }
   ],
   "source": [
    "%pip install openpyxl"
   ]
  },
  {
   "cell_type": "code",
   "execution_count": 4,
   "id": "29f4e312",
   "metadata": {},
   "outputs": [
    {
     "data": {
      "text/html": [
       "<div>\n",
       "<style scoped>\n",
       "    .dataframe tbody tr th:only-of-type {\n",
       "        vertical-align: middle;\n",
       "    }\n",
       "\n",
       "    .dataframe tbody tr th {\n",
       "        vertical-align: top;\n",
       "    }\n",
       "\n",
       "    .dataframe thead th {\n",
       "        text-align: right;\n",
       "    }\n",
       "</style>\n",
       "<table border=\"1\" class=\"dataframe\">\n",
       "  <thead>\n",
       "    <tr style=\"text-align: right;\">\n",
       "      <th></th>\n",
       "      <th>Study_ID</th>\n",
       "      <th>Study</th>\n",
       "      <th>Allocation</th>\n",
       "      <th>Experimenter</th>\n",
       "    </tr>\n",
       "  </thead>\n",
       "  <tbody>\n",
       "    <tr>\n",
       "      <th>0</th>\n",
       "      <td>1</td>\n",
       "      <td>Chacko et al 2017</td>\n",
       "      <td>Random</td>\n",
       "      <td>Parent</td>\n",
       "    </tr>\n",
       "    <tr>\n",
       "      <th>1</th>\n",
       "      <td>1</td>\n",
       "      <td>Chacko et al 2017</td>\n",
       "      <td>Random</td>\n",
       "      <td>Parent</td>\n",
       "    </tr>\n",
       "    <tr>\n",
       "      <th>2</th>\n",
       "      <td>2</td>\n",
       "      <td>Coyne et al 2004</td>\n",
       "      <td>Non-random</td>\n",
       "      <td>Teacher</td>\n",
       "    </tr>\n",
       "    <tr>\n",
       "      <th>3</th>\n",
       "      <td>2</td>\n",
       "      <td>Coyne et al 2004</td>\n",
       "      <td>Non-random</td>\n",
       "      <td>Teacher</td>\n",
       "    </tr>\n",
       "    <tr>\n",
       "      <th>4</th>\n",
       "      <td>3</td>\n",
       "      <td>Purpura et al 2017</td>\n",
       "      <td>Random</td>\n",
       "      <td>Researcher</td>\n",
       "    </tr>\n",
       "    <tr>\n",
       "      <th>...</th>\n",
       "      <td>...</td>\n",
       "      <td>...</td>\n",
       "      <td>...</td>\n",
       "      <td>...</td>\n",
       "    </tr>\n",
       "    <tr>\n",
       "      <th>311</th>\n",
       "      <td>54</td>\n",
       "      <td>Hassinger-Das (2013)</td>\n",
       "      <td>Random</td>\n",
       "      <td>Researcher</td>\n",
       "    </tr>\n",
       "    <tr>\n",
       "      <th>312</th>\n",
       "      <td>54</td>\n",
       "      <td>Hassinger-Das (2013)</td>\n",
       "      <td>Random</td>\n",
       "      <td>Researcher</td>\n",
       "    </tr>\n",
       "    <tr>\n",
       "      <th>313</th>\n",
       "      <td>54</td>\n",
       "      <td>Hassinger-Das (2013)</td>\n",
       "      <td>Random</td>\n",
       "      <td>Researcher</td>\n",
       "    </tr>\n",
       "    <tr>\n",
       "      <th>314</th>\n",
       "      <td>27</td>\n",
       "      <td>Crandell 2010</td>\n",
       "      <td>Random</td>\n",
       "      <td>Teacher</td>\n",
       "    </tr>\n",
       "    <tr>\n",
       "      <th>315</th>\n",
       "      <td>27</td>\n",
       "      <td>Crandell 2010</td>\n",
       "      <td>Random</td>\n",
       "      <td>Teacher</td>\n",
       "    </tr>\n",
       "  </tbody>\n",
       "</table>\n",
       "<p>316 rows × 4 columns</p>\n",
       "</div>"
      ],
      "text/plain": [
       "     Study_ID                 Study  Allocation Experimenter\n",
       "0           1     Chacko et al 2017      Random       Parent\n",
       "1           1     Chacko et al 2017      Random       Parent\n",
       "2           2      Coyne et al 2004  Non-random      Teacher\n",
       "3           2      Coyne et al 2004  Non-random      Teacher\n",
       "4           3    Purpura et al 2017      Random   Researcher\n",
       "..        ...                   ...         ...          ...\n",
       "311        54  Hassinger-Das (2013)      Random   Researcher\n",
       "312        54  Hassinger-Das (2013)      Random   Researcher\n",
       "313        54  Hassinger-Das (2013)      Random   Researcher\n",
       "314        27         Crandell 2010      Random      Teacher\n",
       "315        27         Crandell 2010      Random      Teacher\n",
       "\n",
       "[316 rows x 4 columns]"
      ]
     },
     "execution_count": 4,
     "metadata": {},
     "output_type": "execute_result"
    }
   ],
   "source": [
    "df = pd.read_excel('content\\ground_truth\\data.xlsx')\n",
    "ground_truth_df = df[['Study_ID', 'Study', 'Allocation', 'Experimenter']]\n",
    "ground_truth_df"
   ]
  },
  {
   "cell_type": "code",
   "execution_count": 5,
   "id": "e5ae5ae7",
   "metadata": {},
   "outputs": [
    {
     "name": "stdout",
     "output_type": "stream",
     "text": [
      "Loaded Aram and Biron - 2004 - Joint storybook reading and joint writing interventions among low SES preschoolers differential con.pdf.csv\n",
      "Loaded Bianco et al. - 2010 - Early Training in Oral Comprehension and Phonological Skills Results of a Three-Year Longitudinal S.pdf.csv\n",
      "Loaded Biemiller and Boote - 2006 - An Effective Method for Building Meaning Vocabulary in Primary Grades.pdf.csv\n",
      "Loaded Blom-Hoffman et al. - 2007 - Instructing Parents to Use Dialogic Reading Strategies with Preschool Children Impact of a Video-Ba.pdf.csv\n",
      "Loaded Coyne et al. - 2004 - Teaching Vocabulary During Shared Storybook Readings An Examination of Differential Effects.pdf.csv\n",
      "Loaded Coyne et al. - 2010 - Direct and Extended Vocabulary Instruction in Kindergarten Investigating Transfer Effects.pdf.csv\n",
      "Loaded Fontes and Cardoso-Martins - 2004 - Efeitos da leitura de histórias no desenvolvimento da linguagem de crianças de nível sócio-econômico.pdf.csv\n",
      "Loaded Korat and Shamir - 2007 - Electronic books versus adult readers effects on children's emergent literacy as a function of soci.pdf.csv\n",
      "Loaded Korat et al. - 2013 - Expanding the boundaries of shared book reading E-books and printed books in parent–child reading a.pdf.csv\n",
      "Loaded Lefebvre et al. - 2011 - Enhancing vocabulary, print awareness and phonological awareness through shared storybook reading wi.pdf.csv\n",
      "Loaded Lever and Sénéchal - 2011 - Discussing stories On how a dialogic reading intervention improves kindergartners’ oral narrative c.pdf.csv\n",
      "Loaded Lever and Sénéchal - 2011 - Discussing stories On how a dialogic reading intervention improves kindergartners’ oral narrative c.pdf.csv\n",
      "Loaded Levin and Aram - 2012 - Mother–child joint writing and storybook reading and their effects on kindergartners’ literacy an i.pdf.csv\n",
      "Loaded Lonigan and Whitehurst - 1998 - Relative efficacy of parent and teacher involvement in a shared-reading intervention for preschool c.pdf.csv\n",
      "Loaded Lonigan et al. - 1999 - Effects of Two Shared-Reading Interventions on Emergent Literacy Skills of At-Risk Preschoolers.pdf.csv\n",
      "Loaded Purpura et al. - 2017 - Causal Connections Between Mathematical Language and Mathematical Knowledge A Dialogic Reading Inte.pdf.csv\n",
      "Loaded Segal-Drori et al. - 2010 - Reading electronic and printed books with and without adult instruction effects on emergent reading.pdf.csv\n",
      "Loaded Wing-Yin Chow and McBride-Chang - 2003 - Promoting Language and Literacy Development through Parent–Child Reading in Hong Kong Preschoolers.pdf.csv\n",
      "Loaded Yeh and Connell - 2008 - Effects of rhyming, vocabulary and phonemic awareness instruction on phoneme awareness.pdf.csv\n",
      "Combined DataFrame created.\n"
     ]
    }
   ],
   "source": [
    "# extracting data from the csv files in the extracted directory\n",
    "\n",
    "extracted_dir = 'content/extracted'\n",
    "extracted_dfs = []\n",
    "\n",
    "if os.path.exists(extracted_dir):\n",
    "    for filename in os.listdir(extracted_dir):\n",
    "        if filename.endswith('.csv'):\n",
    "            file_path = os.path.join(extracted_dir, filename)\n",
    "            try:\n",
    "                df = pd.read_csv(file_path)\n",
    "                extracted_dfs.append(df)\n",
    "                print(f\"Loaded {filename}\")\n",
    "            except Exception as e:\n",
    "                print(f\"Failed to load {filename}: {e}\")\n",
    "\n",
    "if extracted_dfs:\n",
    "    extracted_combined_df = pd.concat(extracted_dfs, ignore_index=True)\n",
    "    print(\"Combined DataFrame created.\")\n",
    "else:\n",
    "    print(\"No CSV files found in the directory.\")"
   ]
  },
  {
   "cell_type": "code",
   "execution_count": 6,
   "id": "d63f2b08",
   "metadata": {},
   "outputs": [],
   "source": [
    "# directly taken from Anna's code\n",
    "import re\n",
    "import unicodedata\n",
    "\n",
    "def remove_accents(input_str):\n",
    "    nfkd_form = unicodedata.normalize('NFKD', input_str)\n",
    "    return \"\".join([c for c in nfkd_form if not unicodedata.combining(c)])\n",
    "\n",
    "def format_studyName(study_name_string):\n",
    "    \"\"\"\n",
    "    Cuts a string after the last four-digit number, assuming it represents the year.\n",
    "\n",
    "    Args:\n",
    "        study_name_string (str): The input string potentially containing a year.\n",
    "\n",
    "    Returns:\n",
    "        str: The string cut after the year, or the original string if no year is found.\n",
    "    \"\"\"\n",
    "    # Get rid of all the points, -\n",
    "    study_name_string = study_name_string.replace('.', '')\n",
    "    study_name_string = study_name_string.replace(',', '')\n",
    "    study_name_string = study_name_string.replace(' - ', ' ')\n",
    "    study_name_string = study_name_string.replace(')', '')\n",
    "    study_name_string = study_name_string.replace('(', '')\n",
    "    study_name_string = study_name_string.replace('&', 'and')\n",
    "    study_name_string = remove_accents(study_name_string)\n",
    "    # Find all occurrences of four consecutive digits (potential years)\n",
    "    year_matches = list(re.finditer(r'\\b\\d{4}\\b', study_name_string))\n",
    "\n",
    "    if year_matches:\n",
    "        # Get the last match\n",
    "        last_year_match = year_matches[-1]\n",
    "        # Get the end index of the last year match\n",
    "        end_of_year_index = last_year_match.end()\n",
    "        # Slice the string up to the end of the year\n",
    "        cut_string = study_name_string[:end_of_year_index]\n",
    "        return cut_string.strip() # Use strip to remove trailing whitespace\n",
    "    else:\n",
    "        # If no four-digit number is found, return the original string\n",
    "        return study_name_string.strip()"
   ]
  },
  {
   "cell_type": "code",
   "execution_count": 7,
   "id": "e9dff752",
   "metadata": {},
   "outputs": [
    {
     "data": {
      "text/html": [
       "<div>\n",
       "<style scoped>\n",
       "    .dataframe tbody tr th:only-of-type {\n",
       "        vertical-align: middle;\n",
       "    }\n",
       "\n",
       "    .dataframe tbody tr th {\n",
       "        vertical-align: top;\n",
       "    }\n",
       "\n",
       "    .dataframe thead th {\n",
       "        text-align: right;\n",
       "    }\n",
       "</style>\n",
       "<table border=\"1\" class=\"dataframe\">\n",
       "  <thead>\n",
       "    <tr style=\"text-align: right;\">\n",
       "      <th></th>\n",
       "      <th>Allocation</th>\n",
       "      <th>Experimenter</th>\n",
       "      <th>Study</th>\n",
       "    </tr>\n",
       "  </thead>\n",
       "  <tbody>\n",
       "    <tr>\n",
       "      <th>0</th>\n",
       "      <td>Random</td>\n",
       "      <td>Teacher</td>\n",
       "      <td>Joint storybook reading and joint writing inte...</td>\n",
       "    </tr>\n",
       "    <tr>\n",
       "      <th>1</th>\n",
       "      <td>Non-random</td>\n",
       "      <td>Teacher</td>\n",
       "      <td>Bianco et al 2010</td>\n",
       "    </tr>\n",
       "    <tr>\n",
       "      <th>2</th>\n",
       "      <td>Random</td>\n",
       "      <td>Teacher</td>\n",
       "      <td>Biemiller and Boote 2006</td>\n",
       "    </tr>\n",
       "    <tr>\n",
       "      <th>3</th>\n",
       "      <td>Random</td>\n",
       "      <td>Parent</td>\n",
       "      <td>Instructing Parents to Use Dialogic Reading St...</td>\n",
       "    </tr>\n",
       "    <tr>\n",
       "      <th>4</th>\n",
       "      <td>Random</td>\n",
       "      <td>Researcher</td>\n",
       "      <td>Coyne et al 2004</td>\n",
       "    </tr>\n",
       "    <tr>\n",
       "      <th>5</th>\n",
       "      <td>Random</td>\n",
       "      <td>Teacher</td>\n",
       "      <td>Coyne et al 2010</td>\n",
       "    </tr>\n",
       "    <tr>\n",
       "      <th>6</th>\n",
       "      <td>Random</td>\n",
       "      <td>Researcher</td>\n",
       "      <td>Efeitos da Leitura de Historias no Desenvolvim...</td>\n",
       "    </tr>\n",
       "    <tr>\n",
       "      <th>7</th>\n",
       "      <td>Random</td>\n",
       "      <td>Teacher</td>\n",
       "      <td>Korat and Shamir 2007</td>\n",
       "    </tr>\n",
       "    <tr>\n",
       "      <th>8</th>\n",
       "      <td>Random</td>\n",
       "      <td>Parent</td>\n",
       "      <td>Korat et al 2013</td>\n",
       "    </tr>\n",
       "    <tr>\n",
       "      <th>9</th>\n",
       "      <td>Researcher</td>\n",
       "      <td>Lefebvre et al. - 2011 - Enhancing vocabulary</td>\n",
       "      <td>print awareness and phonological awareness thr...</td>\n",
       "    </tr>\n",
       "    <tr>\n",
       "      <th>10</th>\n",
       "      <td>Random</td>\n",
       "      <td>Researcher</td>\n",
       "      <td>Discussing stories: On how a dialogic reading ...</td>\n",
       "    </tr>\n",
       "    <tr>\n",
       "      <th>11</th>\n",
       "      <td>Random</td>\n",
       "      <td>Researcher</td>\n",
       "      <td>Discussing stories: On how a dialogic reading ...</td>\n",
       "    </tr>\n",
       "    <tr>\n",
       "      <th>12</th>\n",
       "      <td>Random</td>\n",
       "      <td>Teacher</td>\n",
       "      <td>Levin and Aram 2012</td>\n",
       "    </tr>\n",
       "    <tr>\n",
       "      <th>13</th>\n",
       "      <td>Random</td>\n",
       "      <td>Teacher</td>\n",
       "      <td>Lonigan and Whitehurst 1998</td>\n",
       "    </tr>\n",
       "    <tr>\n",
       "      <th>14</th>\n",
       "      <td>Random</td>\n",
       "      <td>Researcher</td>\n",
       "      <td>Lonigan et al 1999</td>\n",
       "    </tr>\n",
       "    <tr>\n",
       "      <th>15</th>\n",
       "      <td>Random</td>\n",
       "      <td>Researcher</td>\n",
       "      <td>Purpura et al 2017</td>\n",
       "    </tr>\n",
       "    <tr>\n",
       "      <th>16</th>\n",
       "      <td>Random</td>\n",
       "      <td>Researcher</td>\n",
       "      <td>Segal-Drori et al 2010</td>\n",
       "    </tr>\n",
       "    <tr>\n",
       "      <th>17</th>\n",
       "      <td>Random</td>\n",
       "      <td>Parent</td>\n",
       "      <td>Promoting Language and Literacy Development th...</td>\n",
       "    </tr>\n",
       "    <tr>\n",
       "      <th>18</th>\n",
       "      <td>Teacher</td>\n",
       "      <td>Yeh and Connell - 2008 - Effects of rhyming</td>\n",
       "      <td>vocabulary and phonemic awareness instruction ...</td>\n",
       "    </tr>\n",
       "  </tbody>\n",
       "</table>\n",
       "</div>"
      ],
      "text/plain": [
       "    Allocation                                   Experimenter  \\\n",
       "0       Random                                        Teacher   \n",
       "1   Non-random                                        Teacher   \n",
       "2       Random                                        Teacher   \n",
       "3       Random                                         Parent   \n",
       "4       Random                                     Researcher   \n",
       "5       Random                                        Teacher   \n",
       "6       Random                                     Researcher   \n",
       "7       Random                                        Teacher   \n",
       "8       Random                                         Parent   \n",
       "9   Researcher  Lefebvre et al. - 2011 - Enhancing vocabulary   \n",
       "10      Random                                     Researcher   \n",
       "11      Random                                     Researcher   \n",
       "12      Random                                        Teacher   \n",
       "13      Random                                        Teacher   \n",
       "14      Random                                     Researcher   \n",
       "15      Random                                     Researcher   \n",
       "16      Random                                     Researcher   \n",
       "17      Random                                         Parent   \n",
       "18     Teacher    Yeh and Connell - 2008 - Effects of rhyming   \n",
       "\n",
       "                                                Study  \n",
       "0   Joint storybook reading and joint writing inte...  \n",
       "1                                   Bianco et al 2010  \n",
       "2                            Biemiller and Boote 2006  \n",
       "3   Instructing Parents to Use Dialogic Reading St...  \n",
       "4                                    Coyne et al 2004  \n",
       "5                                    Coyne et al 2010  \n",
       "6   Efeitos da Leitura de Historias no Desenvolvim...  \n",
       "7                               Korat and Shamir 2007  \n",
       "8                                    Korat et al 2013  \n",
       "9   print awareness and phonological awareness thr...  \n",
       "10  Discussing stories: On how a dialogic reading ...  \n",
       "11  Discussing stories: On how a dialogic reading ...  \n",
       "12                                Levin and Aram 2012  \n",
       "13                        Lonigan and Whitehurst 1998  \n",
       "14                                 Lonigan et al 1999  \n",
       "15                                 Purpura et al 2017  \n",
       "16                             Segal-Drori et al 2010  \n",
       "17  Promoting Language and Literacy Development th...  \n",
       "18  vocabulary and phonemic awareness instruction ...  "
      ]
     },
     "execution_count": 7,
     "metadata": {},
     "output_type": "execute_result"
    }
   ],
   "source": [
    "extracted_combined_df['Study'] = extracted_combined_df['Study'].apply(format_studyName)\n",
    "extracted_combined_df"
   ]
  },
  {
   "cell_type": "markdown",
   "id": "76309230",
   "metadata": {},
   "source": [
    "#### To group the tables by Study"
   ]
  },
  {
   "cell_type": "code",
   "execution_count": 8,
   "id": "54d594df",
   "metadata": {},
   "outputs": [],
   "source": [
    "#provided by Anna \n",
    "def accuracy_check(col_name, df_extracted, test_table):\n",
    "  allocation_match = False\n",
    "  experimenter_match = False\n",
    "\n",
    "  # Check if both dataframes have the expected columns and rows\n",
    "  if col_name in df_extracted.columns and \\\n",
    "    not df_extracted.empty and not test_table.empty:\n",
    "\n",
    "      extracted_allocation = df_extracted[col_name].iloc[0]\n",
    "\n",
    "      ground_truth_allocation = test_table[col_name].iloc[0]\n",
    "\n",
    "      # Simple case-insensitive comparison\n",
    "      if str(extracted_allocation).lower() == str(ground_truth_allocation).lower():\n",
    "          allocation_match = True\n",
    "          print(f'{col_name}: Match')\n",
    "      else:\n",
    "          print(f\"{col_name}: Mismatch (Extracted: '{extracted_allocation}', Ground Truth: '{ground_truth_allocation}')\")\n",
    "  else:\n",
    "    print(\"Cannot perform accuracy check: Extracted or ground truth data is missing or malformed.\")\n",
    "  print(\"--------------------\")"
   ]
  },
  {
   "cell_type": "code",
   "execution_count": 9,
   "id": "430028f3",
   "metadata": {},
   "outputs": [
    {
     "name": "stdout",
     "output_type": "stream",
     "text": [
      "Allocation: Match\n",
      "--------------------\n",
      "Experimenter: Mismatch (Extracted: 'Teacher', Ground Truth: 'Parent')\n",
      "--------------------\n"
     ]
    }
   ],
   "source": [
    "# Use the accuracy_check function to compare 'Allocation' between df and extracted_combined_df\n",
    "accuracy_check('Allocation', extracted_combined_df, ground_truth_df)\n",
    "accuracy_check('Experimenter', extracted_combined_df, ground_truth_df)\n"
   ]
  },
  {
   "cell_type": "markdown",
   "id": "7b44c39e",
   "metadata": {},
   "source": [
    "## Calculating the metrics\n",
    "Auxilary functions used to calculate the metrics just so it can be easier to read"
   ]
  },
  {
   "cell_type": "code",
   "execution_count": 10,
   "id": "6bb0f434",
   "metadata": {},
   "outputs": [],
   "source": [
    "#TODO : it would be great to have a class that has all those at the same time\n",
    "\n",
    "def calculateAccuracy(TP, FP, FN):\n",
    "    '''calculates the accuracy of a model based on true positives, true negatives, false positives, and false negatives.'''\n",
    "    return TP / (TP + FP + FN) if (TP + FP + FN) > 0 else 0\n",
    "\n",
    "def calculatePrecision(TP, FP):\n",
    "    '''calculates the precision of a model based on true positives and false positives.'''\n",
    "    return TP / (TP + FP) if (TP + FP) > 0 else 0\n",
    "\n",
    "def calculateRecall(TP, FN):\n",
    "    '''calculates the recall of a model based on true positives and false negatives.'''\n",
    "    return TP / (TP + FN) if (TP + FN) > 0 else 0\n",
    "\n",
    "def calculateF1Score(precision, recall):\n",
    "    '''calculates the F1 score based on precision and recall.'''\n",
    "    return 2 * precision * recall / (precision + recall) if (precision + recall) > 0 else 0\n",
    "\n",
    "def calculateMetrics(TP, FP, FN):\n",
    "    '''calculates various metrics based on true positives, false positives, and false negatives.'''\n",
    "    # --- Metrics ---\n",
    "    accuracy = calculateAccuracy(TP, FP, FN) \n",
    "    recall = calculateRecall(TP, FN)\n",
    "    precision = calculatePrecision(TP, FP)\n",
    "    f1 = calculateF1Score(precision, recall)\n",
    "\n",
    "    return {\n",
    "        'Accuracy': round(accuracy, 4),\n",
    "        'Recall': round(recall, 4),\n",
    "        'Precision': round(precision, 4),\n",
    "        'F1': round(f1, 4)\n",
    "    }\n",
    "\n",
    "#testing the metrics\n",
    "# '''\n",
    "# Example usage of the calculateMetrics function\n",
    "# metrics = calculateMetrics(10, 5, 2)\n",
    "# print(metrics)\n",
    "# '''"
   ]
  },
  {
   "cell_type": "code",
   "execution_count": 11,
   "id": "98e2ad8e",
   "metadata": {},
   "outputs": [],
   "source": [
    "def count_true_positives(gt_df, pred_df, column='label', join_on='id', positive_value=1):\n",
    "    merged = gt_df[[join_on, column]].merge(pred_df[[join_on, column]], on=join_on, suffixes=('_gt', '_pred'))\n",
    "    tp = ((merged[f\"{column}_gt\"] == positive_value) & (merged[f\"{column}_pred\"] == positive_value)).sum()\n",
    "    return tp\n",
    "\n",
    "def count_false_positives(gt_df, pred_df, column='label', join_on='id', positive_value=1):\n",
    "    merged = gt_df[[join_on, column]].merge(pred_df[[join_on, column]], on=join_on, suffixes=('_gt', '_pred'))\n",
    "    fp = ((merged[f\"{column}_gt\"] != positive_value) & (merged[f\"{column}_pred\"] == positive_value)).sum()\n",
    "    return fp\n",
    "\n",
    "def count_false_negatives(gt_df, pred_df, column='label', join_on='id', positive_value=1):\n",
    "    merged = gt_df[[join_on, column]].merge(pred_df[[join_on, column]], on=join_on, suffixes=('_gt', '_pred'))\n",
    "    fn = ((merged[f\"{column}_gt\"] == positive_value) & (merged[f\"{column}_pred\"] != positive_value)).sum()\n",
    "    return fn"
   ]
  },
  {
   "cell_type": "code",
   "execution_count": 12,
   "id": "f81b971b",
   "metadata": {},
   "outputs": [
    {
     "name": "stdout",
     "output_type": "stream",
     "text": [
      "True Positives: 12\n",
      "False Positives: 4\n",
      "False Negatives: 0\n",
      "{'Accuracy': np.float64(0.75), 'Recall': np.float64(1.0), 'Precision': np.float64(0.75), 'F1': np.float64(0.8571)}\n"
     ]
    }
   ],
   "source": [
    "tp = count_true_positives(ground_truth_df, extracted_combined_df, column='Allocation', join_on='Study', positive_value='Random')\n",
    "print(f'True Positives: {tp}')\n",
    "\n",
    "fp = count_false_positives(ground_truth_df, extracted_combined_df, column='Allocation', join_on='Study', positive_value='Random')\n",
    "print(f'False Positives: {fp}')\n",
    "\n",
    "fn = count_false_negatives(ground_truth_df, extracted_combined_df, column='Allocation', join_on='Study', positive_value='Random')\n",
    "print(f'False Negatives: {fn}')\n",
    "\n",
    "# Calculate metrics\n",
    "metrics = calculateMetrics(tp, fp, fn)\n",
    "print(metrics)\n"
   ]
  },
  {
   "cell_type": "code",
   "execution_count": 13,
   "id": "b3e99188",
   "metadata": {},
   "outputs": [
    {
     "name": "stdout",
     "output_type": "stream",
     "text": [
      "True Positives (Teacher): 15\n",
      "False Positives (Teacher): 2\n",
      "False Negatives (Teacher): 6\n",
      "{'Accuracy': np.float64(0.6522), 'Recall': np.float64(0.7143), 'Precision': np.float64(0.8824), 'F1': np.float64(0.7895)}\n"
     ]
    }
   ],
   "source": [
    "tp_teacher = count_true_positives(ground_truth_df, extracted_combined_df, column='Experimenter', join_on='Study', positive_value='Teacher')\n",
    "print(f'True Positives (Teacher): {tp_teacher}')\n",
    "\n",
    "fp_teacher = count_false_positives(ground_truth_df, extracted_combined_df, column='Experimenter', join_on='Study', positive_value='Teacher')\n",
    "print(f'False Positives (Teacher): {fp_teacher}')\n",
    "\n",
    "fn_teacher = count_false_negatives(ground_truth_df, extracted_combined_df, column='Experimenter', join_on='Study', positive_value='Teacher')\n",
    "print(f'False Negatives (Teacher): {fn_teacher}')\n",
    "\n",
    "# Calculate metrics for Teacher\n",
    "metrics_teacher = calculateMetrics(tp_teacher, fp_teacher, fn_teacher)\n",
    "print(metrics_teacher)"
   ]
  },
  {
   "cell_type": "code",
   "execution_count": 14,
   "id": "0e118f49",
   "metadata": {},
   "outputs": [
    {
     "name": "stdout",
     "output_type": "stream",
     "text": [
      "True Positives (Parent): 0\n",
      "False Positives (Parent): 0\n",
      "False Negatives (Parent): 0\n",
      "{'Accuracy': 0, 'Recall': 0, 'Precision': 0, 'F1': 0}\n"
     ]
    }
   ],
   "source": [
    "tp_parent = count_true_positives(ground_truth_df, extracted_combined_df, column='Experimenter', join_on='Study', positive_value='Parent')\n",
    "print(f'True Positives (Parent): {tp_parent}')\n",
    "\n",
    "fp_parent = count_false_positives(ground_truth_df, extracted_combined_df, column='Experimenter', join_on='Study', positive_value='Parent')\n",
    "print(f'False Positives (Parent): {fp_parent}')\n",
    "\n",
    "fn_parent = count_false_negatives(ground_truth_df, extracted_combined_df, column='Experimenter', join_on='Study', positive_value='Parent')\n",
    "print(f'False Negatives (Parent): {fn_parent}')\n",
    "\n",
    "metrics_parent = calculateMetrics(tp_parent, fp_parent, fn_parent)\n",
    "print(metrics_parent)"
   ]
  },
  {
   "cell_type": "code",
   "execution_count": 21,
   "id": "2f177913",
   "metadata": {},
   "outputs": [
    {
     "name": "stdout",
     "output_type": "stream",
     "text": [
      "True Positives (Researcher): 2\n",
      "False Positives (Researcher): 12\n",
      "False Negatives (Researcher): 2\n",
      "{'Accuracy': np.float64(0.125), 'Recall': np.float64(0.5), 'Precision': np.float64(0.1429), 'F1': np.float64(0.2222)}\n"
     ]
    }
   ],
   "source": [
    "tp_researcher = count_true_positives(ground_truth_df, extracted_combined_df, column='Experimenter', join_on='Study', positive_value='Researcher')\n",
    "print(f'True Positives (Researcher): {tp_researcher}')\n",
    "\n",
    "fp_researcher = count_false_positives(ground_truth_df, extracted_combined_df, column='Experimenter', join_on='Study', positive_value='Researcher')\n",
    "print(f'False Positives (Researcher): {fp_researcher}')\n",
    "\n",
    "fn_researcher = count_false_negatives(ground_truth_df, extracted_combined_df, column='Experimenter', join_on='Study', positive_value='Researcher')\n",
    "print(f'False Negatives (Researcher): {fn_researcher}')\n",
    "\n",
    "metrics_researcher = calculateMetrics(tp_researcher, fp_researcher, fn_researcher)\n",
    "print(metrics_researcher)"
   ]
  },
  {
   "cell_type": "code",
   "execution_count": 20,
   "id": "0a4bbf44",
   "metadata": {},
   "outputs": [
    {
     "name": "stdout",
     "output_type": "stream",
     "text": [
      "True Positives (Combined): 0\n",
      "False Positives (Combined): 0\n",
      "False Negatives (Combined): 0\n",
      "{'Accuracy': 0, 'Recall': 0, 'Precision': 0, 'F1': 0}\n"
     ]
    }
   ],
   "source": [
    "tp_Combined = count_true_positives(ground_truth_df, extracted_combined_df, column='Experimenter', join_on='Study', positive_value='Combined - Teacher and Parent')\n",
    "print(f'True Positives (Combined): {tp_Combined}')\n",
    "\n",
    "fp_Combined = count_false_positives(ground_truth_df, extracted_combined_df, column='Experimenter', join_on='Study', positive_value='Combined - Teacher and Parent')\n",
    "print(f'False Positives (Combined): {fp_Combined}')\n",
    "\n",
    "fn_Combined = count_false_negatives(ground_truth_df, extracted_combined_df, column='Experimenter', join_on='Study', positive_value='Combined - Teacher and Parent')\n",
    "print(f'False Negatives (Combined): {fn_Combined}')\n",
    "\n",
    "metrics_Combined = calculateMetrics(tp_Combined, fp_Combined, fn_Combined)\n",
    "print(metrics_Combined)"
   ]
  },
  {
   "cell_type": "markdown",
   "id": "e35d7277",
   "metadata": {},
   "source": [
    "# Plots \n",
    "plotting the outputted numbers uwu"
   ]
  },
  {
   "cell_type": "code",
   "execution_count": 16,
   "id": "f38f6ce6",
   "metadata": {},
   "outputs": [
    {
     "name": "stderr",
     "output_type": "stream",
     "text": [
      "\n",
      "[notice] A new release of pip is available: 24.0 -> 25.1.1\n",
      "[notice] To update, run: C:\\Users\\farah\\AppData\\Local\\Microsoft\\WindowsApps\\PythonSoftwareFoundation.Python.3.11_qbz5n2kfra8p0\\python.exe -m pip install --upgrade pip\n"
     ]
    },
    {
     "name": "stdout",
     "output_type": "stream",
     "text": [
      "Requirement already satisfied: matplotlib in c:\\users\\farah\\appdata\\local\\packages\\pythonsoftwarefoundation.python.3.11_qbz5n2kfra8p0\\localcache\\local-packages\\python311\\site-packages (3.10.3)\n",
      "Requirement already satisfied: contourpy>=1.0.1 in c:\\users\\farah\\appdata\\local\\packages\\pythonsoftwarefoundation.python.3.11_qbz5n2kfra8p0\\localcache\\local-packages\\python311\\site-packages (from matplotlib) (1.3.2)\n",
      "Requirement already satisfied: cycler>=0.10 in c:\\users\\farah\\appdata\\local\\packages\\pythonsoftwarefoundation.python.3.11_qbz5n2kfra8p0\\localcache\\local-packages\\python311\\site-packages (from matplotlib) (0.12.1)\n",
      "Requirement already satisfied: fonttools>=4.22.0 in c:\\users\\farah\\appdata\\local\\packages\\pythonsoftwarefoundation.python.3.11_qbz5n2kfra8p0\\localcache\\local-packages\\python311\\site-packages (from matplotlib) (4.58.4)\n",
      "Requirement already satisfied: kiwisolver>=1.3.1 in c:\\users\\farah\\appdata\\local\\packages\\pythonsoftwarefoundation.python.3.11_qbz5n2kfra8p0\\localcache\\local-packages\\python311\\site-packages (from matplotlib) (1.4.8)\n",
      "Requirement already satisfied: numpy>=1.23 in c:\\users\\farah\\appdata\\local\\packages\\pythonsoftwarefoundation.python.3.11_qbz5n2kfra8p0\\localcache\\local-packages\\python311\\site-packages (from matplotlib) (2.3.0)\n",
      "Requirement already satisfied: packaging>=20.0 in c:\\users\\farah\\appdata\\local\\packages\\pythonsoftwarefoundation.python.3.11_qbz5n2kfra8p0\\localcache\\local-packages\\python311\\site-packages (from matplotlib) (25.0)\n",
      "Requirement already satisfied: pillow>=8 in c:\\users\\farah\\appdata\\local\\packages\\pythonsoftwarefoundation.python.3.11_qbz5n2kfra8p0\\localcache\\local-packages\\python311\\site-packages (from matplotlib) (11.2.1)\n",
      "Requirement already satisfied: pyparsing>=2.3.1 in c:\\users\\farah\\appdata\\local\\packages\\pythonsoftwarefoundation.python.3.11_qbz5n2kfra8p0\\localcache\\local-packages\\python311\\site-packages (from matplotlib) (3.2.3)\n",
      "Requirement already satisfied: python-dateutil>=2.7 in c:\\users\\farah\\appdata\\local\\packages\\pythonsoftwarefoundation.python.3.11_qbz5n2kfra8p0\\localcache\\local-packages\\python311\\site-packages (from matplotlib) (2.9.0.post0)\n",
      "Requirement already satisfied: six>=1.5 in c:\\users\\farah\\appdata\\local\\packages\\pythonsoftwarefoundation.python.3.11_qbz5n2kfra8p0\\localcache\\local-packages\\python311\\site-packages (from python-dateutil>=2.7->matplotlib) (1.17.0)\n",
      "Note: you may need to restart the kernel to use updated packages.\n"
     ]
    }
   ],
   "source": [
    "%pip install matplotlib\n",
    "import matplotlib.pyplot as plt"
   ]
  },
  {
   "cell_type": "code",
   "execution_count": 18,
   "id": "b8fc50d8",
   "metadata": {},
   "outputs": [],
   "source": [
    "def plots(TP, FP, FN):    \n",
    "\n",
    "    allocation_metrics = calculateMetrics(TP, FP, FN)\n",
    "\n",
    "    # Metrics for Experimenter (multi-class)\n",
    "    experimenter_metrics = calculateMetrics(TPE_sum, FPE_sum, FNE_sum)\n",
    "\n",
    "    # Prepare data for plotting\n",
    "    labels = ['Accuracy', 'Recall', 'Precision', 'F1']\n",
    "    allocation_values = [allocation_metrics[label] for label in labels]\n",
    "    experimenter_values = [experimenter_metrics[label] for label in labels]\n",
    "\n",
    "    x = range(len(labels))\n",
    "    width = 0.35\n",
    "\n",
    "    plt.figure(figsize=(8, 5))\n",
    "    plt.bar([i - width/2 for i in x], allocation_values, width, label='Allocation')\n",
    "    plt.bar([i + width/2 for i in x], experimenter_values, width, label='Experimenter')\n",
    "\n",
    "    plt.ylabel('Score')\n",
    "    plt.title('Evaluation Metrics')\n",
    "    plt.xticks(x, labels)\n",
    "    plt.ylim(0, 1)\n",
    "    plt.legend()\n",
    "    plt.tight_layout()\n",
    "    plt.show()"
   ]
  },
  {
   "cell_type": "markdown",
   "id": "14b2df65",
   "metadata": {},
   "source": [
    "# To do :\n",
    "nexts steps are to add graphics\n",
    "- check what are the appropriate graphics to match this data\n",
    "- fjhjdfv zbel "
   ]
  }
 ],
 "metadata": {
  "kernelspec": {
   "display_name": "Python 3",
   "language": "python",
   "name": "python3"
  },
  "language_info": {
   "codemirror_mode": {
    "name": "ipython",
    "version": 3
   },
   "file_extension": ".py",
   "mimetype": "text/x-python",
   "name": "python",
   "nbconvert_exporter": "python",
   "pygments_lexer": "ipython3",
   "version": "3.11.9"
  }
 },
 "nbformat": 4,
 "nbformat_minor": 5
}
